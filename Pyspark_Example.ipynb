{
  "nbformat": 4,
  "nbformat_minor": 0,
  "metadata": {
    "colab": {
      "provenance": []
    },
    "kernelspec": {
      "name": "python3",
      "display_name": "Python 3"
    },
    "language_info": {
      "name": "python"
    }
  },
  "cells": [
    {
      "cell_type": "code",
      "execution_count": 30,
      "metadata": {
        "id": "gP_0TmqSzTRR"
      },
      "outputs": [],
      "source": [
        "from pyspark.sql import SparkSession\n",
        "import pyspark.sql.functions as sql\n",
        "\n",
        "# Pyspark session\n",
        "spark = SparkSession.builder.appName(\"Test Pyspark Session\").getOrCreate()\n",
        "# Data from: https://www.kaggle.com/datasets/mohithsairamreddy/salary-data"
      ]
    },
    {
      "cell_type": "code",
      "source": [
        "# Load file\n",
        "df = spark.read.csv(\"/content/Salary_Data.csv\", header=True, inferSchema=True)\n",
        "\n",
        "df = df.withColumnRenamed(\"Age\", \"AGE\")\\\n",
        "      .withColumnRenamed(\"Gender\", \"GENDER\")\\\n",
        "      .withColumnRenamed(\"Education Level\", \"EDUCATION_LEVEL\")\\\n",
        "      .withColumnRenamed(\"Job Title\", \"JOB_TITLE\")\\\n",
        "      .withColumnRenamed(\"Years of Experience\", \"YEARS_OF_EXPERIENCE\")\\\n",
        "      .withColumnRenamed(\"Salary\", \"SALARY\")\n",
        "\n",
        "# Create view for SQL\n",
        "df.createOrReplaceTempView(\"salaries\")\n",
        "\n",
        "# Show schema and sample\n",
        "print(df.printSchema())\n",
        "df.show(5)"
      ],
      "metadata": {
        "colab": {
          "base_uri": "https://localhost:8080/"
        },
        "id": "08fLpiBdzXm_",
        "outputId": "d423dc84-38f3-4a5e-8925-c7e8090dbf50"
      },
      "execution_count": 35,
      "outputs": [
        {
          "output_type": "stream",
          "name": "stdout",
          "text": [
            "root\n",
            " |-- AGE: integer (nullable = true)\n",
            " |-- GENDER: string (nullable = true)\n",
            " |-- EDUCATION_LEVEL: string (nullable = true)\n",
            " |-- JOB_TITLE: string (nullable = true)\n",
            " |-- YEARS_OF_EXPERIENCE: double (nullable = true)\n",
            " |-- SALARY: integer (nullable = true)\n",
            "\n",
            "None\n",
            "+---+------+---------------+-----------------+-------------------+------+\n",
            "|AGE|GENDER|EDUCATION_LEVEL|        JOB_TITLE|YEARS_OF_EXPERIENCE|SALARY|\n",
            "+---+------+---------------+-----------------+-------------------+------+\n",
            "| 32|  Male|     Bachelor's|Software Engineer|                5.0| 90000|\n",
            "| 28|Female|       Master's|     Data Analyst|                3.0| 65000|\n",
            "| 45|  Male|            PhD|   Senior Manager|               15.0|150000|\n",
            "| 36|Female|     Bachelor's|  Sales Associate|                7.0| 60000|\n",
            "| 52|  Male|       Master's|         Director|               20.0|200000|\n",
            "+---+------+---------------+-----------------+-------------------+------+\n",
            "only showing top 5 rows\n",
            "\n"
          ]
        }
      ]
    },
    {
      "cell_type": "code",
      "source": [
        "sql_str = '''\n",
        "SELECT\n",
        "  *\n",
        "FROM salaries\n",
        "WHERE\n",
        "  GENDER = 'Male'\n",
        "  AND YEARS_OF_EXPERIENCE > 1\n",
        "ORDER BY SALARY DESC\n",
        "'''"
      ],
      "metadata": {
        "id": "s3kqS1UB1rm6"
      },
      "execution_count": 36,
      "outputs": []
    },
    {
      "cell_type": "code",
      "source": [
        "spark.sql(sql_str).show(10)"
      ],
      "metadata": {
        "colab": {
          "base_uri": "https://localhost:8080/"
        },
        "id": "5p7aK2HKzrxM",
        "outputId": "ccdd1e85-0e6a-4301-8ed6-34e54f23e064"
      },
      "execution_count": 37,
      "outputs": [
        {
          "output_type": "stream",
          "name": "stdout",
          "text": [
            "+---+------+-----------------+--------------------+-------------------+------+\n",
            "|AGE|GENDER|  EDUCATION_LEVEL|           JOB_TITLE|YEARS_OF_EXPERIENCE|SALARY|\n",
            "+---+------+-----------------+--------------------+-------------------+------+\n",
            "| 50|  Male|       Bachelor's|                 CEO|               25.0|250000|\n",
            "| 52|  Male|              PhD|Chief Technology ...|               24.0|250000|\n",
            "| 45|  Male|Bachelor's Degree|   Financial Manager|               21.0|250000|\n",
            "| 51|  Male|              PhD|      Data Scientist|               24.0|240000|\n",
            "| 51|  Male|              PhD|      Data Scientist|               24.0|240000|\n",
            "| 51|  Male|              PhD|      Data Scientist|               24.0|240000|\n",
            "| 51|  Male|              PhD|      Data Scientist|               24.0|240000|\n",
            "| 51|  Male|              PhD|      Data Scientist|               24.0|240000|\n",
            "| 51|  Male|              PhD|      Data Scientist|               24.0|240000|\n",
            "| 51|  Male|              PhD|      Data Scientist|               24.0|240000|\n",
            "+---+------+-----------------+--------------------+-------------------+------+\n",
            "only showing top 10 rows\n",
            "\n"
          ]
        }
      ]
    }
  ]
}